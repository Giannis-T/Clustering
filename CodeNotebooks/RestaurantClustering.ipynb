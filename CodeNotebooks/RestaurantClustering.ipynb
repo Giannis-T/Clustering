{
 "cells": [
  {
   "cell_type": "markdown",
   "metadata": {},
   "source": [
    "## Ερώτηση 3\n",
    "\n",
    "#### Data Processing"
   ]
  },
  {
   "cell_type": "code",
   "execution_count": 1,
   "metadata": {},
   "outputs": [],
   "source": [
    "import pandas as pd\n",
    "import numpy as np\n",
    "import matplotlib.pyplot as plt\n",
    "from sklearn.feature_extraction.text import TfidfVectorizer\n",
    "from sklearn.cluster import KMeans\n",
    "from sklearn.cluster import AgglomerativeClustering\n",
    "from sklearn import metrics\n",
    "\n"
   ]
  },
  {
   "cell_type": "code",
   "execution_count": 2,
   "metadata": {},
   "outputs": [
    {
     "name": "stdout",
     "output_type": "stream",
     "text": [
      "(14569, 14)\n"
     ]
    },
    {
     "data": {
      "text/html": [
       "<div>\n",
       "<style scoped>\n",
       "    .dataframe tbody tr th:only-of-type {\n",
       "        vertical-align: middle;\n",
       "    }\n",
       "\n",
       "    .dataframe tbody tr th {\n",
       "        vertical-align: top;\n",
       "    }\n",
       "\n",
       "    .dataframe thead th {\n",
       "        text-align: right;\n",
       "    }\n",
       "</style>\n",
       "<table border=\"1\" class=\"dataframe\">\n",
       "  <thead>\n",
       "    <tr style=\"text-align: right;\">\n",
       "      <th></th>\n",
       "      <th>business_id</th>\n",
       "      <th>name</th>\n",
       "      <th>address</th>\n",
       "      <th>city</th>\n",
       "      <th>state</th>\n",
       "      <th>postal_code</th>\n",
       "      <th>latitude</th>\n",
       "      <th>longitude</th>\n",
       "      <th>stars</th>\n",
       "      <th>review_count</th>\n",
       "      <th>is_open</th>\n",
       "      <th>attributes</th>\n",
       "      <th>categories</th>\n",
       "      <th>hours</th>\n",
       "    </tr>\n",
       "  </thead>\n",
       "  <tbody>\n",
       "    <tr>\n",
       "      <th>0</th>\n",
       "      <td>MTSW4McQd7CbVtyjqoe9mw</td>\n",
       "      <td>St Honore Pastries</td>\n",
       "      <td>935 Race St</td>\n",
       "      <td>Philadelphia</td>\n",
       "      <td>PA</td>\n",
       "      <td>19107.0</td>\n",
       "      <td>39.955505</td>\n",
       "      <td>-75.155564</td>\n",
       "      <td>4.0</td>\n",
       "      <td>80</td>\n",
       "      <td>1</td>\n",
       "      <td>{'RestaurantsDelivery': 'False', 'OutdoorSeati...</td>\n",
       "      <td>Restaurants, Food, Bubble Tea, Coffee &amp; Tea, B...</td>\n",
       "      <td>{'Monday': '7:0-20:0', 'Tuesday': '7:0-20:0', ...</td>\n",
       "    </tr>\n",
       "    <tr>\n",
       "      <th>1</th>\n",
       "      <td>MUTTqe8uqyMdBl186RmNeA</td>\n",
       "      <td>Tuna Bar</td>\n",
       "      <td>205 Race St</td>\n",
       "      <td>Philadelphia</td>\n",
       "      <td>PA</td>\n",
       "      <td>19106.0</td>\n",
       "      <td>39.953949</td>\n",
       "      <td>-75.143226</td>\n",
       "      <td>4.0</td>\n",
       "      <td>245</td>\n",
       "      <td>1</td>\n",
       "      <td>{'RestaurantsReservations': 'True', 'Restauran...</td>\n",
       "      <td>Sushi Bars, Restaurants, Japanese</td>\n",
       "      <td>{'Tuesday': '13:30-22:0', 'Wednesday': '13:30-...</td>\n",
       "    </tr>\n",
       "  </tbody>\n",
       "</table>\n",
       "</div>"
      ],
      "text/plain": [
       "              business_id                name      address          city  \\\n",
       "0  MTSW4McQd7CbVtyjqoe9mw  St Honore Pastries  935 Race St  Philadelphia   \n",
       "1  MUTTqe8uqyMdBl186RmNeA            Tuna Bar  205 Race St  Philadelphia   \n",
       "\n",
       "  state  postal_code   latitude  longitude  stars  review_count  is_open  \\\n",
       "0    PA      19107.0  39.955505 -75.155564    4.0            80        1   \n",
       "1    PA      19106.0  39.953949 -75.143226    4.0           245        1   \n",
       "\n",
       "                                          attributes  \\\n",
       "0  {'RestaurantsDelivery': 'False', 'OutdoorSeati...   \n",
       "1  {'RestaurantsReservations': 'True', 'Restauran...   \n",
       "\n",
       "                                          categories  \\\n",
       "0  Restaurants, Food, Bubble Tea, Coffee & Tea, B...   \n",
       "1                  Sushi Bars, Restaurants, Japanese   \n",
       "\n",
       "                                               hours  \n",
       "0  {'Monday': '7:0-20:0', 'Tuesday': '7:0-20:0', ...  \n",
       "1  {'Tuesday': '13:30-22:0', 'Wednesday': '13:30-...  "
      ]
     },
     "execution_count": 2,
     "metadata": {},
     "output_type": "execute_result"
    }
   ],
   "source": [
    "df_bus = pd.read_csv(\"phily_businesses.csv\")\n",
    "print(df_bus.shape)\n",
    "df_bus.head(2)"
   ]
  },
  {
   "cell_type": "code",
   "execution_count": 3,
   "metadata": {},
   "outputs": [
    {
     "name": "stdout",
     "output_type": "stream",
     "text": [
      "(951, 2)\n"
     ]
    },
    {
     "data": {
      "text/html": [
       "<div>\n",
       "<style scoped>\n",
       "    .dataframe tbody tr th:only-of-type {\n",
       "        vertical-align: middle;\n",
       "    }\n",
       "\n",
       "    .dataframe tbody tr th {\n",
       "        vertical-align: top;\n",
       "    }\n",
       "\n",
       "    .dataframe thead th {\n",
       "        text-align: right;\n",
       "    }\n",
       "</style>\n",
       "<table border=\"1\" class=\"dataframe\">\n",
       "  <thead>\n",
       "    <tr style=\"text-align: right;\">\n",
       "      <th></th>\n",
       "      <th>business_id</th>\n",
       "      <th>category</th>\n",
       "    </tr>\n",
       "  </thead>\n",
       "  <tbody>\n",
       "    <tr>\n",
       "      <th>0</th>\n",
       "      <td>MUTTqe8uqyMdBl186RmNeA</td>\n",
       "      <td>0</td>\n",
       "    </tr>\n",
       "    <tr>\n",
       "      <th>1</th>\n",
       "      <td>QdN72BWoyFypdGJhhI5r7g</td>\n",
       "      <td>1</td>\n",
       "    </tr>\n",
       "    <tr>\n",
       "      <th>2</th>\n",
       "      <td>WYYdQDjx-DsCanlP0DpImQ</td>\n",
       "      <td>0</td>\n",
       "    </tr>\n",
       "    <tr>\n",
       "      <th>3</th>\n",
       "      <td>O1oZpbZNDMH_gz8DhsZCdA</td>\n",
       "      <td>2</td>\n",
       "    </tr>\n",
       "    <tr>\n",
       "      <th>4</th>\n",
       "      <td>dChRGpit9fM_kZK5pafNyA</td>\n",
       "      <td>2</td>\n",
       "    </tr>\n",
       "  </tbody>\n",
       "</table>\n",
       "</div>"
      ],
      "text/plain": [
       "              business_id  category\n",
       "0  MUTTqe8uqyMdBl186RmNeA         0\n",
       "1  QdN72BWoyFypdGJhhI5r7g         1\n",
       "2  WYYdQDjx-DsCanlP0DpImQ         0\n",
       "3  O1oZpbZNDMH_gz8DhsZCdA         2\n",
       "4  dChRGpit9fM_kZK5pafNyA         2"
      ]
     },
     "execution_count": 3,
     "metadata": {},
     "output_type": "execute_result"
    }
   ],
   "source": [
    "matches = [\"Japanese\", \"Italian\", \"Burgers\"]\n",
    "def filter_restaurants(category):\n",
    "    try: \n",
    "        if \"Restaurant\" in category:\n",
    "            matches_count = 0\n",
    "            category_match = \"\"\n",
    "            for match in matches:\n",
    "                if match in category:\n",
    "                    category_match = matches.index(match)\n",
    "                    matches_count += 1\n",
    "            if matches_count == 1:\n",
    "                return category_match\n",
    "        return None\n",
    "    except:\n",
    "        return None\n",
    "df_bus[\"category\"] = df_bus[\"categories\"].apply(filter_restaurants)\n",
    "df_bus.dropna(subset=['categories'], inplace=True)\n",
    "df_bus=df_bus.dropna(axis=0)\n",
    "df_bus = df_bus[[\"business_id\", \"category\"]]\n",
    "df_bus.category = df_bus.category.astype(int)\n",
    "df_bus.reset_index(drop=True, inplace=True)\n",
    "\n",
    "print(df_bus.shape)\n",
    "df_bus.head()\n"
   ]
  },
  {
   "cell_type": "markdown",
   "metadata": {},
   "source": [
    "Αντιστοιχισα τις κατηγοριες σε αριθμους(με βαση το index τους στο πινακα matches) για να υπολογιστει το confusion matrix.   \n",
    "Η αντιστοιχιση ειναι η εξης:   \n",
    "* Japanese => 0\n",
    "* Italian => 1\n",
    "* Burger => 2"
   ]
  },
  {
   "cell_type": "code",
   "execution_count": 4,
   "metadata": {},
   "outputs": [],
   "source": [
    "df_rev = pd.read_csv(\"reviews.csv\")\n",
    "df_rev = df_rev[df_rev.business_id.isin(df_bus.business_id)]"
   ]
  },
  {
   "cell_type": "code",
   "execution_count": 5,
   "metadata": {},
   "outputs": [
    {
     "name": "stdout",
     "output_type": "stream",
     "text": [
      "(951, 3)\n"
     ]
    },
    {
     "data": {
      "text/html": [
       "<div>\n",
       "<style scoped>\n",
       "    .dataframe tbody tr th:only-of-type {\n",
       "        vertical-align: middle;\n",
       "    }\n",
       "\n",
       "    .dataframe tbody tr th {\n",
       "        vertical-align: top;\n",
       "    }\n",
       "\n",
       "    .dataframe thead th {\n",
       "        text-align: right;\n",
       "    }\n",
       "</style>\n",
       "<table border=\"1\" class=\"dataframe\">\n",
       "  <thead>\n",
       "    <tr style=\"text-align: right;\">\n",
       "      <th></th>\n",
       "      <th>business_id</th>\n",
       "      <th>category</th>\n",
       "      <th>text</th>\n",
       "    </tr>\n",
       "  </thead>\n",
       "  <tbody>\n",
       "    <tr>\n",
       "      <th>0</th>\n",
       "      <td>MUTTqe8uqyMdBl186RmNeA</td>\n",
       "      <td>0</td>\n",
       "      <td>Stopped in to check out this new spot around t...</td>\n",
       "    </tr>\n",
       "    <tr>\n",
       "      <th>1</th>\n",
       "      <td>QdN72BWoyFypdGJhhI5r7g</td>\n",
       "      <td>1</td>\n",
       "      <td>This place is top notch, with phenomenal servi...</td>\n",
       "    </tr>\n",
       "    <tr>\n",
       "      <th>2</th>\n",
       "      <td>WYYdQDjx-DsCanlP0DpImQ</td>\n",
       "      <td>0</td>\n",
       "      <td>Delicious and very nicely presented. We had J ...</td>\n",
       "    </tr>\n",
       "    <tr>\n",
       "      <th>3</th>\n",
       "      <td>O1oZpbZNDMH_gz8DhsZCdA</td>\n",
       "      <td>2</td>\n",
       "      <td>This Wendy's is the worst Wendy's to go to . T...</td>\n",
       "    </tr>\n",
       "    <tr>\n",
       "      <th>4</th>\n",
       "      <td>dChRGpit9fM_kZK5pafNyA</td>\n",
       "      <td>2</td>\n",
       "      <td>I am not known for favorable restaurant review...</td>\n",
       "    </tr>\n",
       "  </tbody>\n",
       "</table>\n",
       "</div>"
      ],
      "text/plain": [
       "              business_id  category  \\\n",
       "0  MUTTqe8uqyMdBl186RmNeA         0   \n",
       "1  QdN72BWoyFypdGJhhI5r7g         1   \n",
       "2  WYYdQDjx-DsCanlP0DpImQ         0   \n",
       "3  O1oZpbZNDMH_gz8DhsZCdA         2   \n",
       "4  dChRGpit9fM_kZK5pafNyA         2   \n",
       "\n",
       "                                                text  \n",
       "0  Stopped in to check out this new spot around t...  \n",
       "1  This place is top notch, with phenomenal servi...  \n",
       "2  Delicious and very nicely presented. We had J ...  \n",
       "3  This Wendy's is the worst Wendy's to go to . T...  \n",
       "4  I am not known for favorable restaurant review...  "
      ]
     },
     "execution_count": 5,
     "metadata": {},
     "output_type": "execute_result"
    }
   ],
   "source": [
    "# --------The sum of reviews for each business seperate\n",
    "df_rev = pd.read_csv(\"reviews.csv\")\n",
    "df_rev = df_rev[df_rev.business_id.isin(df_bus.business_id)]\n",
    "df_rev = df_rev[[\"review_id\",\"business_id\", \"text\"]]\n",
    "df_rev = df_rev.groupby(by= \"business_id\")[\"text\"].sum()\n",
    "reviews_by_business = df_bus.merge(df_rev, on=\"business_id\")\n",
    "print(reviews_by_business.shape)\n",
    "reviews_by_business.head()"
   ]
  },
  {
   "cell_type": "markdown",
   "metadata": {},
   "source": [
    "Ο παραπανω πινακας περιεχει για καθε επιχειρηση τη κατηγορια της και ολες τις κριτικες που εχουν γινει σε αυτη στη μορφη ενος string.   "
   ]
  },
  {
   "cell_type": "code",
   "execution_count": 6,
   "metadata": {},
   "outputs": [
    {
     "data": {
      "text/plain": [
       "(951, 3)"
      ]
     },
     "execution_count": 6,
     "metadata": {},
     "output_type": "execute_result"
    }
   ],
   "source": [
    "X = reviews_by_business\n",
    "X.shape"
   ]
  },
  {
   "cell_type": "code",
   "execution_count": 7,
   "metadata": {},
   "outputs": [
    {
     "data": {
      "text/plain": [
       "(951, 1000)"
      ]
     },
     "execution_count": 7,
     "metadata": {},
     "output_type": "execute_result"
    }
   ],
   "source": [
    "vectorizer = TfidfVectorizer(stop_words = \"english\", max_features= 1000, min_df=4,max_df=0.8)\n",
    "X_v = vectorizer.fit_transform(X.text)\n",
    "X_v.shape"
   ]
  },
  {
   "cell_type": "markdown",
   "metadata": {},
   "source": [
    "#### 1ο Ερωτημα"
   ]
  },
  {
   "cell_type": "code",
   "execution_count": 8,
   "metadata": {},
   "outputs": [
    {
     "data": {
      "text/plain": [
       "AgglomerativeClustering(linkage='single', n_clusters=3)"
      ]
     },
     "execution_count": 8,
     "metadata": {},
     "output_type": "execute_result"
    }
   ],
   "source": [
    "kmeans = KMeans(n_clusters= 3)\n",
    "\n",
    "X_array = X_v.todense()\n",
    "agg_ward = AgglomerativeClustering(n_clusters=3, linkage=\"ward\")\n",
    "agg_complete = AgglomerativeClustering(n_clusters=3, linkage=\"complete\")\n",
    "agg_single = AgglomerativeClustering(n_clusters=3, linkage=\"single\")\n",
    "agg_avg = AgglomerativeClustering(n_clusters=3, linkage=\"average\")\n",
    "\n",
    "k = kmeans.fit(X_v)\n",
    "agg_ward.fit(X_array)\n",
    "agg_complete.fit(X_array)\n",
    "agg_avg.fit(X_array)\n",
    "agg_single.fit(X_array)"
   ]
  },
  {
   "cell_type": "code",
   "execution_count": 9,
   "metadata": {},
   "outputs": [],
   "source": [
    "def cluster_class_mapping(kmeans_labels, true_labels):\n",
    "    C = metrics.confusion_matrix(kmeans_labels,true_labels)\n",
    "    mapping = list(np.argmax(C, axis=1))\n",
    "    mapped_kmeans_labels = [mapping[l] for l in kmeans_labels]\n",
    "    C2= metrics.confusion_matrix(mapped_kmeans_labels,true_labels)\n",
    "    return mapped_kmeans_labels, C"
   ]
  },
  {
   "cell_type": "code",
   "execution_count": 10,
   "metadata": {},
   "outputs": [
    {
     "name": "stdout",
     "output_type": "stream",
     "text": [
      "Kmeans\n",
      "[[ 67 264 291]\n",
      " [  0 167  24]\n",
      " [137   0   1]]\n",
      "\n",
      "\n",
      "Agglomerative Ward\n",
      "[[ 98 256 293]\n",
      " [  0 175  23]\n",
      " [106   0   0]]\n",
      "\n",
      "\n",
      "Agglomerative Average\n",
      "[[204 429 316]\n",
      " [  0   1   0]\n",
      " [  0   1   0]]\n",
      "\n",
      "\n",
      "Agglomerative Complete\n",
      "[[155 381  88]\n",
      " [ 49  48 228]\n",
      " [  0   2   0]]\n",
      "\n",
      "\n",
      "Agglomerative Single\n",
      "[[204 430 315]\n",
      " [  0   1   0]\n",
      " [  0   0   1]]\n",
      "\n",
      "\n"
     ]
    }
   ],
   "source": [
    "algo_labels = [kmeans.labels_, agg_ward.labels_, agg_avg.labels_, agg_complete.labels_, agg_single.labels_]\n",
    "algo_order_strings = [\"Kmeans\", \"Agglomerative Ward\", \"Agglomerative Average\", \"Agglomerative Complete\", \"Agglomerative Single\"]\n",
    "\n",
    "for i,labels in enumerate(algo_labels):\n",
    "    print(algo_order_strings[i])\n",
    "    print(cluster_class_mapping(algo_labels[i], X.category)[1])\n",
    "    print(\"\\n\")"
   ]
  },
  {
   "cell_type": "markdown",
   "metadata": {},
   "source": [
    "Μπορούμε να παρατηρήσουμε ότι ο Agglomerative με linkage single και linkage average, τοποθετούν τα περισσότερα στοιχεία σε ένα cluster, ενώ ο Agglomerative με linkage complete σε 2. Αντίθετα, ο Kmeans και o Agglomerative με linkage ward κάνουν πιο ισορροπημένη ομαδοποίηση με βάση τα πραγματικά μεγέθη των ομάδων, που φανερώνει καλύτερη απόδοση αφού προσεγγίζει καλυτέρα τις πραγματικές κατηγορίες.\n",
    "\n",
    "#### 2ο Ερωτημα\n"
   ]
  },
  {
   "cell_type": "code",
   "execution_count": 11,
   "metadata": {},
   "outputs": [
    {
     "name": "stdout",
     "output_type": "stream",
     "text": [
      "Cluster 0:\n",
      "burger fries italian pasta bar sandwich table dinner bread salad \n",
      "Cluster 1:\n",
      "pizza delivery crust wings pizzas pie slice fries salad slices \n",
      "Cluster 2:\n",
      "sushi roll rolls rice tuna salmon sashimi spicy japanese tempura \n"
     ]
    }
   ],
   "source": [
    "centers = kmeans.cluster_centers_.argsort()\n",
    "centers = centers[:,::-1]\n",
    "terms = vectorizer.get_feature_names()\n",
    "for i in range(len(centers)):\n",
    "    print(f\"Cluster {i}:\")\n",
    "    str_words = \"\"\n",
    "    for i in centers[i, :10]:\n",
    "        str_words += terms[i] + \" \"\n",
    "    print(str_words)"
   ]
  },
  {
   "cell_type": "markdown",
   "metadata": {},
   "source": [
    "Από τις top 10 λέξεις μπορούμε να κατηγοριοποιήσουμε τους clusters αρκετά εύκολα, αφού σε ένα cluster υπάρχουν λέξεις όπως sushi, rolls, rice, tuna, ... και άλλες λέξεις από την Ιαπωνική κουζίνα, σε άλλο cluster βλέπουμε λέξεις όπως pizza, crust, pie ... που μπορούμε να καταλάβουμε ότι πρόκειται για Ιταλική κουζίνα. Τέλος, στον τελευταίο cluster βλέπουμε λέξεις όπως burger, fries ... που μπορούμε να καταλάβουμε ότι αφορά Burger εστιατόρια. Παρόλα αυτά, υπάρχουν αρκετές κοινές λέξεις μεταξύ των Italian και Burger που φαίνεται και στους πίνακες συσχετίσεων να μπερδεύουν τους αλγορίθμους.   \n",
    "\n",
    "#### 3ο Ερώτημα"
   ]
  },
  {
   "cell_type": "markdown",
   "metadata": {},
   "source": [
    "Στο παρακατω block, υπολογιζω το F1-score, Precision και Recall στο Kmeans και Agglomerative με ward linkage."
   ]
  },
  {
   "cell_type": "code",
   "execution_count": 12,
   "metadata": {},
   "outputs": [
    {
     "name": "stdout",
     "output_type": "stream",
     "text": [
      "Kmeans\n",
      "F1 - measure for [Japanese, Italian, Burger]: [0.80116959 0.53697749 0.62046908] -> 0.6213923510029269\n",
      "Precision for [Japanese, Italian, Burger]:[0.99275362 0.87434555 0.46784566] -> 0.7646728699930888\n",
      "Recall for [Japanese, Italian, Burger]:[0.67156863 0.387471   0.92088608] -> 0.6256572029442692\n",
      "\n",
      "\n",
      "\n",
      "Agglomerative Ward\n",
      "F1 - measure for [Japanese, Italian, Burger]: [0.68387097 0.55643879 0.60851506] -> 0.6010783961135712\n",
      "Precision for [Japanese, Italian, Burger]:[1.         0.88383838 0.45285935] -> 0.7655498404868222\n",
      "Recall for [Japanese, Italian, Burger]:[0.51960784 0.40603248 0.92721519] -> 0.6035751840168244\n",
      "\n",
      "\n",
      "\n"
     ]
    }
   ],
   "source": [
    "all_predictions = algo_labels[0:2] \n",
    "\n",
    "algo_true_predictions = []\n",
    "\n",
    "for labels in all_predictions:\n",
    "    algo_true_predictions.append(cluster_class_mapping(labels, X.category)[0])\n",
    "\n",
    "for i, true_labels in enumerate(algo_true_predictions):\n",
    "    print(algo_order_strings[i])\n",
    "    print(f\"F1 - measure for [Japanese, Italian, Burger]: {metrics.f1_score(X.category, true_labels, average=None)} -> {metrics.f1_score(X.category, true_labels, average='weighted')}\")\n",
    "    print(f\"Precision for [Japanese, Italian, Burger]:{metrics.precision_score(X.category, true_labels, average=None)} -> {metrics.precision_score(X.category, true_labels, average='weighted')}\")\n",
    "    print(f\"Recall for [Japanese, Italian, Burger]:{metrics.recall_score(X.category, true_labels, average=None)} -> {metrics.recall_score(X.category, true_labels, average='weighted')}\")\n",
    "    print(\"\\n\\n\")"
   ]
  },
  {
   "cell_type": "markdown",
   "metadata": {},
   "source": [
    "Στα παραπάνω αποτελέσματα φαίνεται το trade-off μεταξύ του Precision και Recall, αφού στις περισσότερες περιπτώσεις που ένα από τα δυο είναι πολύ υψηλό, το άλλο είναι αρκετά χαμηλότερο. Επίσης, βλέπουμε πως και οι δυο αλγόριθμοι ομαδοποιούν καλυτέρα τα Japanese εστιατόρια σε σχέση με τις άλλες δυο κατηγορίες. Συνολικά, ο Kmeans αλγόριθμος μας δίνει λίγο καλυτέρα αποτελέσματα από τον Agglomerative με ward linkage. \n",
    "\n",
    "#### 4ο Ερώτημα\n",
    "Στο παρακάτω block αποθηκεύουμε το silhouette score και την ριζά του αθροίσματος της απόσταση του κάθε στοιχείου από το centroid του(SSE), για κάθε αλγορίθμου για να υπολογίσουμε τα διαγράμματα του σφάλματος και του silhouette."
   ]
  },
  {
   "cell_type": "code",
   "execution_count": 13,
   "metadata": {},
   "outputs": [
    {
     "data": {
      "text/plain": [
       "Text(0, 0.5, 'silhouette score')"
      ]
     },
     "execution_count": 13,
     "metadata": {},
     "output_type": "execute_result"
    },
    {
     "data": {
      "image/png": "[encoded data removed]",
      "text/plain": [
       "<Figure size 720x360 with 2 Axes>"
      ]
     },
     "metadata": {
      "needs_background": "light"
     },
     "output_type": "display_data"
    }
   ],
   "source": [
    "sse = np.zeros(9)\n",
    "silhouette = np.zeros(9)\n",
    "algorithm_centers = []\n",
    "\n",
    "\n",
    "for k in range(2,11):\n",
    "    kmeans = KMeans(n_clusters=k)\n",
    "    kmeans.fit(X_v)\n",
    "    sse[k-2] = kmeans.inertia_\n",
    "    silhouette[k-2] = metrics.silhouette_score(X_v, kmeans.labels_)\n",
    "    algorithm_centers.append(kmeans.cluster_centers_)\n",
    "\n",
    "plt.figure(figsize=(10, 5))\n",
    "plt.subplot(1, 2, 1)\n",
    "plt.plot(range(2, 11), sse)\n",
    "plt.xlabel('Number of clusters')\n",
    "plt.ylabel('Error')\n",
    "\n",
    "plt.subplot(1, 2, 2)\n",
    "plt.plot(range(2, 11), silhouette)\n",
    "plt.xlabel('Number of clusters')\n",
    "plt.ylabel('silhouette score')"
   ]
  },
  {
   "cell_type": "markdown",
   "metadata": {},
   "source": [
    "Στο SSE διάγραμμα, βλέπουμε το Sum of Squares error να μειώνεται όσο αυξάνουμε το πλήθος των clusters. Από 8 έως 10 clusters ο ρυθμός μείωσης φαίνεται να έχει σταθεροποιηθεί. Επίσης, στο silhouette plot βλέπουμε αρκετά υψηλό score σε αυτό το range. Για αυτό θα κρατήσουμε **8 clusters**"
   ]
  },
  {
   "cell_type": "code",
   "execution_count": 15,
   "metadata": {},
   "outputs": [
    {
     "name": "stdout",
     "output_type": "stream",
     "text": [
      "Cluster 0:\n",
      "pasta italian wine dinner table gnocchi bread dish byob dessert \n",
      "Cluster 1:\n",
      "bar drinks beer wings burger drink fries table bartender server \n",
      "Cluster 2:\n",
      "drive fries location window fast employees worst manager line burger \n",
      "Cluster 3:\n",
      "ramen rice bowl korean noodles sushi spicy pork broth curry \n",
      "Cluster 4:\n",
      "sushi roll rolls tuna rice salmon sashimi tempura spicy fish \n",
      "Cluster 5:\n",
      "burger fries burgers shake king bun sandwich bacon rings shack \n",
      "Cluster 6:\n",
      "sandwich breakfast cheesesteak sandwiches hoagie fries coffee italian steak bread \n",
      "Cluster 7:\n",
      "pizza delivery crust wings pizzas pie slice fries salad slices \n"
     ]
    }
   ],
   "source": [
    "k = 8\n",
    "centers = algorithm_centers[k-2].argsort()\n",
    "centers = centers[:,::-1]\n",
    "terms = vectorizer.get_feature_names()\n",
    "\n",
    "for i in range(len(centers)):\n",
    "    print(f\"Cluster {i}:\")\n",
    "    str_words = \"\"\n",
    "    for j in centers[i, :10]:\n",
    "        str_words += terms[j] + \" \"\n",
    "    print(str_words)"
   ]
  },
  {
   "cell_type": "markdown",
   "metadata": {},
   "source": [
    "Έχοντας χωρίσει τα δεδομένα μας σε 8 ομάδες μπορούμε να βγάλουμε κάποια ενδιαφέρον συμπεράσματα για το τρόπο που χωρίστηκαν, κοιτάζοντας τις λέξεις που βρίσκονται πιο κοντά στο κέντρο του κάθε cluster<br>Από αυτά τα clusters φαίνεται πως τα **Japanese** εστιατόρια έχουν χωριστεί σε 2 κατηγορίες τα Ιαπωνικά με θαλασσινά και τα Ιαπωνικά με ζεστά φαγητά που τρώγονται σε bowl. \n",
    "<br>Τα **Ιταλικά** έχουν χωριστεί σε 2 κατηγορίες, τις πιτσαρίες και τα Ιταλικά πιο επισημά(βλέπουμε ότι στη μια κατηγορία έχει λέξεις όπως pizza, delivery, pie, slice και η άλλη pasta, wine, dessert).\n",
    "<br>Τα **Burger** έχουν χωριστεί σε 3 κατηγορίες τα Bar που παρέχουν bar-food(με λέξεις όπως bar, drinks, bartender), οι γνωστές Burger αλυσίδες(με λέξεις όπως shake, shack, king) και τα εστιατόρια με drive throw (με λέξεις όπως drive, window, fast, line). Τέλος, φαίνεται να έχει δημιουργηθεί μια καινούρια κατηγορία που αφορά τα **εστιατόρια με πρωινό**(με λέξεις όπως breakfast και coffee)\n"
   ]
  }
 ],
 "metadata": {
  "kernelspec": {
   "display_name": "Python 3 (ipykernel)",
   "language": "python",
   "name": "python3"
  },
  "language_info": {
   "codemirror_mode": {
    "name": "ipython",
    "version": 3
   },
   "file_extension": ".py",
   "mimetype": "text/x-python",
   "name": "python",
   "nbconvert_exporter": "python",
   "pygments_lexer": "ipython3",
   "version": "3.9.7"
  },
  "vscode": {
   "interpreter": {
    "hash": "5bf5137ea94996cf045b4e01cc05ea6528fbc1ec529e737db76b4d8a5ada53af"
   }
  }
 },
 "nbformat": 4,
 "nbformat_minor": 2
}
